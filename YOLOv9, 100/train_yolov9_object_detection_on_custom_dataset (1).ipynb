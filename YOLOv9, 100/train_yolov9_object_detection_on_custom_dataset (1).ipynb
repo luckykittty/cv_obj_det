{
 "cells": [
  {
   "cell_type": "markdown",
   "metadata": {
    "id": "DQjdUKvQigN2"
   },
   "source": [
    "# How to Train YOLOv9 on a Custom Dataset\n",
    "---\n",
    "\n",
    "[![Roboflow](https://raw.githubusercontent.com/roboflow-ai/notebooks/main/assets/badges/roboflow-blogpost.svg)](https://blog.roboflow.com/train-yolov9-model/)\n",
    "[![GitHub](https://badges.aleen42.com/src/github.svg)](https://github.com/WongKinYiu/yolov9)\n",
    "[![YouTube](https://badges.aleen42.com/src/youtube.svg)](https://youtu.be/XHT2c8jT3Bc)\n",
    "[![arXiv](https://img.shields.io/badge/arXiv-2402.13616-b31b1b.svg)](https://arxiv.org/pdf/2402.13616.pdf)"
   ]
  },
  {
   "cell_type": "markdown",
   "metadata": {
    "id": "m09A8n4djDwY"
   },
   "source": [
    "## Before you start\n",
    "\n",
    "Let's make sure that we have access to GPU. We can use `nvidia-smi` command to do that. In case of any problems navigate to `Edit` -> `Notebook settings` -> `Hardware accelerator`, set it to `GPU`, and then click `Save`."
   ]
  },
  {
   "cell_type": "code",
   "execution_count": 1,
   "metadata": {
    "colab": {
     "base_uri": "https://localhost:8080/"
    },
    "id": "_5hX88yficL7",
    "outputId": "604c4545-9ef1-4ecc-9e3a-629c6ccd2df3"
   },
   "outputs": [
    {
     "name": "stdout",
     "output_type": "stream",
     "text": [
      "Sun Apr 28 11:25:09 2024       \n",
      "+---------------------------------------------------------------------------------------+\n",
      "| NVIDIA-SMI 535.104.05             Driver Version: 535.104.05   CUDA Version: 12.2     |\n",
      "|-----------------------------------------+----------------------+----------------------+\n",
      "| GPU  Name                 Persistence-M | Bus-Id        Disp.A | Volatile Uncorr. ECC |\n",
      "| Fan  Temp   Perf          Pwr:Usage/Cap |         Memory-Usage | GPU-Util  Compute M. |\n",
      "|                                         |                      |               MIG M. |\n",
      "|=========================================+======================+======================|\n",
      "|   0  Tesla T4                       Off | 00000000:00:04.0 Off |                    0 |\n",
      "| N/A   59C    P8              11W /  70W |      0MiB / 15360MiB |      0%      Default |\n",
      "|                                         |                      |                  N/A |\n",
      "+-----------------------------------------+----------------------+----------------------+\n",
      "                                                                                         \n",
      "+---------------------------------------------------------------------------------------+\n",
      "| Processes:                                                                            |\n",
      "|  GPU   GI   CI        PID   Type   Process name                            GPU Memory |\n",
      "|        ID   ID                                                             Usage      |\n",
      "|=======================================================================================|\n",
      "|  No running processes found                                                           |\n",
      "+---------------------------------------------------------------------------------------+\n"
     ]
    }
   ],
   "source": [
    "!nvidia-smi"
   ]
  },
  {
   "cell_type": "markdown",
   "metadata": {
    "id": "UTprsNjHja4l"
   },
   "source": [
    "**NOTE:** To make it easier for us to manage datasets, images and models we create a `HOME` constant."
   ]
  },
  {
   "cell_type": "code",
   "execution_count": 2,
   "metadata": {
    "colab": {
     "base_uri": "https://localhost:8080/"
    },
    "id": "rowKDIT-jJ9k",
    "outputId": "71a57bc3-6e63-460b-8898-a752d411b22d"
   },
   "outputs": [
    {
     "name": "stdout",
     "output_type": "stream",
     "text": [
      "/content\n"
     ]
    }
   ],
   "source": [
    "import os\n",
    "HOME = os.getcwd()\n",
    "print(HOME)"
   ]
  },
  {
   "cell_type": "markdown",
   "metadata": {
    "id": "qWRGGT7Zjjbq"
   },
   "source": [
    "## Clone and Install"
   ]
  },
  {
   "cell_type": "markdown",
   "metadata": {
    "id": "9WyY-fboBLZB"
   },
   "source": [
    "**NOTE:** YOLOv9 is very new. At the moment, we recommend using a fork of the main repository. The `detect.py` script contains a bug that prevents inference. This bug is patched in the fork."
   ]
  },
  {
   "cell_type": "code",
   "execution_count": 3,
   "metadata": {
    "colab": {
     "base_uri": "https://localhost:8080/"
    },
    "id": "pixgo4qnjdoU",
    "outputId": "6f26f346-f017-4ed7-a16a-3c3666978a12"
   },
   "outputs": [
    {
     "name": "stdout",
     "output_type": "stream",
     "text": [
      "Cloning into 'yolov9'...\n",
      "remote: Enumerating objects: 325, done.\u001b[K\n",
      "remote: Counting objects: 100% (325/325), done.\u001b[K\n",
      "remote: Compressing objects: 100% (152/152), done.\u001b[K\n",
      "remote: Total 325 (delta 165), reused 264 (delta 162), pack-reused 0\u001b[K\n",
      "Receiving objects: 100% (325/325), 2.23 MiB | 5.33 MiB/s, done.\n",
      "Resolving deltas: 100% (165/165), done.\n",
      "/content/yolov9\n",
      "\u001b[2K     \u001b[90m━━━━━━━━━━━━━━━━━━━━━━━━━━━━━━━━━━━━━━━━\u001b[0m \u001b[32m207.3/207.3 kB\u001b[0m \u001b[31m2.9 MB/s\u001b[0m eta \u001b[36m0:00:00\u001b[0m\n",
      "\u001b[2K     \u001b[90m━━━━━━━━━━━━━━━━━━━━━━━━━━━━━━━━━━━━━━━━\u001b[0m \u001b[32m62.7/62.7 kB\u001b[0m \u001b[31m5.3 MB/s\u001b[0m eta \u001b[36m0:00:00\u001b[0m\n",
      "\u001b[2K     \u001b[90m━━━━━━━━━━━━━━━━━━━━━━━━━━━━━━━━━━━━━━━━\u001b[0m \u001b[32m1.6/1.6 MB\u001b[0m \u001b[31m29.1 MB/s\u001b[0m eta \u001b[36m0:00:00\u001b[0m\n",
      "\u001b[?25h"
     ]
    }
   ],
   "source": [
    "!git clone https://github.com/SkalskiP/yolov9.git\n",
    "%cd yolov9\n",
    "!pip install -r requirements.txt -q"
   ]
  },
  {
   "cell_type": "markdown",
   "metadata": {
    "id": "bcx7KoNzqpgz"
   },
   "source": [
    "**NOTE:** Let's install the [`roboflow`](https://pypi.org/project/roboflow) package, which we will use to download our dataset from [Roboflow Universe](https://universe.roboflow.com/)."
   ]
  },
  {
   "cell_type": "code",
   "execution_count": 4,
   "metadata": {
    "colab": {
     "base_uri": "https://localhost:8080/"
    },
    "id": "TPGqlohQqgAO",
    "outputId": "7fe4a7fa-4ed0-4ced-aff1-5bb9f64c5d76"
   },
   "outputs": [
    {
     "name": "stdout",
     "output_type": "stream",
     "text": [
      "\u001b[?25l     \u001b[90m━━━━━━━━━━━━━━━━━━━━━━━━━━━━━━━━━━━━━━━━\u001b[0m \u001b[32m0.0/74.6 kB\u001b[0m \u001b[31m?\u001b[0m eta \u001b[36m-:--:--\u001b[0m\r",
      "\u001b[2K     \u001b[90m━━━━━━━━━━━━━━━━━━━━━━━━━━━━━━━━━━━━━━━━\u001b[0m \u001b[32m74.6/74.6 kB\u001b[0m \u001b[31m2.3 MB/s\u001b[0m eta \u001b[36m0:00:00\u001b[0m\n",
      "\u001b[?25h\u001b[?25l     \u001b[90m━━━━━━━━━━━━━━━━━━━━━━━━━━━━━━━━━━━━━━━━\u001b[0m \u001b[32m0.0/158.3 kB\u001b[0m \u001b[31m?\u001b[0m eta \u001b[36m-:--:--\u001b[0m\r",
      "\u001b[2K     \u001b[90m━━━━━━━━━━━━━━━━━━━━━━━━━━━━━━━━━━━━━━━━\u001b[0m \u001b[32m158.3/158.3 kB\u001b[0m \u001b[31m7.6 MB/s\u001b[0m eta \u001b[36m0:00:00\u001b[0m\n",
      "\u001b[2K     \u001b[90m━━━━━━━━━━━━━━━━━━━━━━━━━━━━━━━━━━━━━━━━\u001b[0m \u001b[32m178.7/178.7 kB\u001b[0m \u001b[31m16.7 MB/s\u001b[0m eta \u001b[36m0:00:00\u001b[0m\n",
      "\u001b[2K     \u001b[90m━━━━━━━━━━━━━━━━━━━━━━━━━━━━━━━━━━━━━━━━\u001b[0m \u001b[32m58.8/58.8 kB\u001b[0m \u001b[31m7.5 MB/s\u001b[0m eta \u001b[36m0:00:00\u001b[0m\n",
      "\u001b[2K     \u001b[90m━━━━━━━━━━━━━━━━━━━━━━━━━━━━━━━━━━━━━━━━\u001b[0m \u001b[32m49.1/49.1 MB\u001b[0m \u001b[31m10.4 MB/s\u001b[0m eta \u001b[36m0:00:00\u001b[0m\n",
      "\u001b[2K     \u001b[90m━━━━━━━━━━━━━━━━━━━━━━━━━━━━━━━━━━━━━━━━\u001b[0m \u001b[32m54.5/54.5 kB\u001b[0m \u001b[31m5.9 MB/s\u001b[0m eta \u001b[36m0:00:00\u001b[0m\n",
      "\u001b[?25h"
     ]
    }
   ],
   "source": [
    "!pip install -q roboflow"
   ]
  },
  {
   "cell_type": "markdown",
   "metadata": {
    "id": "X8oLIkX2l2P0"
   },
   "source": [
    "## Download model weights"
   ]
  },
  {
   "cell_type": "markdown",
   "metadata": {
    "id": "0FieRuZnB4wH"
   },
   "source": [
    "**NOTE:** In the YOLOv9 paper, versions `yolov9-s` and `yolov9-m` are also mentioned, but the weights for these models are not yet available in the YOLOv9 [repository](https://github.com/WongKinYiu/yolov9)."
   ]
  },
  {
   "cell_type": "code",
   "execution_count": 5,
   "metadata": {
    "id": "h7j3aUE7l1Je"
   },
   "outputs": [],
   "source": [
    "!wget -P {HOME}/weights -q https://github.com/WongKinYiu/yolov9/releases/download/v0.1/yolov9-c.pt\n",
    "!wget -P {HOME}/weights -q https://github.com/WongKinYiu/yolov9/releases/download/v0.1/yolov9-e.pt\n",
    "!wget -P {HOME}/weights -q https://github.com/WongKinYiu/yolov9/releases/download/v0.1/gelan-c.pt\n",
    "!wget -P {HOME}/weights -q https://github.com/WongKinYiu/yolov9/releases/download/v0.1/gelan-e.pt"
   ]
  },
  {
   "cell_type": "code",
   "execution_count": 6,
   "metadata": {
    "colab": {
     "base_uri": "https://localhost:8080/"
    },
    "id": "Au6np1JS8eRB",
    "outputId": "f1264337-2cdb-44d4-d5ee-22b6dae987da"
   },
   "outputs": [
    {
     "name": "stdout",
     "output_type": "stream",
     "text": [
      "total 402440\n",
      "drwxr-xr-x 2 root root      4096 Apr 28 11:26 .\n",
      "drwxr-xr-x 1 root root      4096 Apr 28 11:26 ..\n",
      "-rw-r--r-- 1 root root  51508261 Feb 18 12:36 gelan-c.pt\n",
      "-rw-r--r-- 1 root root 117203713 Feb 18 12:36 gelan-e.pt\n",
      "-rw-r--r-- 1 root root 103153312 Feb 18 12:36 yolov9-c.pt\n",
      "-rw-r--r-- 1 root root 140217688 Feb 18 12:36 yolov9-e.pt\n"
     ]
    }
   ],
   "source": [
    "!ls -la {HOME}/weights"
   ]
  },
  {
   "cell_type": "markdown",
   "metadata": {
    "id": "Dg29vEyLkTDA"
   },
   "source": [
    "## Download example data"
   ]
  },
  {
   "cell_type": "markdown",
   "metadata": {
    "id": "xIKNGnN2kcTp"
   },
   "source": [
    "**NOTE:** If you want to run inference using your own file as input, simply upload image to Google Colab and update `SOURCE_IMAGE_PATH` with the path leading to your file."
   ]
  },
  {
   "cell_type": "markdown",
   "metadata": {
    "id": "D7fZKrxsq_td"
   },
   "source": [
    "## Authenticate and Download the Dataset"
   ]
  },
  {
   "cell_type": "markdown",
   "metadata": {
    "id": "J5yx2GkI2P7Q"
   },
   "source": [
    "**NOTE:** The dataset must be saved inside the `{HOME}/yolov9` directory, otherwise, the training will not succeed."
   ]
  },
  {
   "cell_type": "code",
   "execution_count": 7,
   "metadata": {
    "colab": {
     "base_uri": "https://localhost:8080/"
    },
    "id": "MyLpftfU2Q1U",
    "outputId": "72e1c91f-8ed8-4e64-8cf5-b56557e4effc"
   },
   "outputs": [
    {
     "name": "stdout",
     "output_type": "stream",
     "text": [
      "/content/yolov9\n"
     ]
    }
   ],
   "source": [
    "%cd {HOME}/yolov9"
   ]
  },
  {
   "cell_type": "markdown",
   "metadata": {
    "id": "eosmGt89vMO1"
   },
   "source": [
    "**NOTE:** In this tutorial, I will use the [football-players-detection](https://universe.roboflow.com/roboflow-jvuqo/football-players-detection-3zvbc) dataset. Feel free to replace it with your dataset in YOLO format or use another dataset available on [Roboflow Universe](https://universe.roboflow.com). Additionally, if you plan to deploy your model to Roboflow after training, make sure you are the owner of the dataset and that no model is associated with the version of the dataset you are going to training on."
   ]
  },
  {
   "cell_type": "code",
   "execution_count": 9,
   "metadata": {
    "colab": {
     "base_uri": "https://localhost:8080/"
    },
    "id": "4J3s_2_7p_gn",
    "outputId": "a862ae81-60d1-4e46-804d-f48c4f82667a"
   },
   "outputs": [
    {
     "name": "stdout",
     "output_type": "stream",
     "text": [
      "loading Roboflow workspace...\n",
      "loading Roboflow project...\n"
     ]
    },
    {
     "name": "stderr",
     "output_type": "stream",
     "text": [
      "Downloading Dataset Version Zip in parking-space-detection-6 to yolov9:: 100%|██████████| 49189/49189 [00:03<00:00, 15265.44it/s]"
     ]
    },
    {
     "name": "stdout",
     "output_type": "stream",
     "text": [
      "\n"
     ]
    },
    {
     "name": "stderr",
     "output_type": "stream",
     "text": [
      "\n",
      "Extracting Dataset Version Zip to parking-space-detection-6 in yolov9:: 100%|██████████| 1680/1680 [00:00<00:00, 6149.73it/s]\n"
     ]
    }
   ],
   "source": [
    "\n",
    "from roboflow import Roboflow\n",
    "rf = Roboflow(api_key=\"qVFp4WvB3pRdoDZrA6U1\")\n",
    "project = rf.workspace(\"sweetkitty\").project(\"parking-space-detection-poycz\")\n",
    "version = project.version(6)\n",
    "dataset = version.download(\"yolov9\")\n"
   ]
  },
  {
   "cell_type": "markdown",
   "metadata": {
    "id": "CTbGpF2IsZ24"
   },
   "source": [
    "## Train Custom Model"
   ]
  },
  {
   "cell_type": "code",
   "execution_count": 10,
   "metadata": {
    "colab": {
     "base_uri": "https://localhost:8080/"
    },
    "id": "N68Bdf4FsMYW",
    "outputId": "30144cc1-8c5c-45b0-a770-eaedd44e5716"
   },
   "outputs": [
    {
     "name": "stdout",
     "output_type": "stream",
     "text": [
      "/content/yolov9\n",
      "2024-04-28 11:27:33.495766: E external/local_xla/xla/stream_executor/cuda/cuda_dnn.cc:9261] Unable to register cuDNN factory: Attempting to register factory for plugin cuDNN when one has already been registered\n",
      "2024-04-28 11:27:33.495820: E external/local_xla/xla/stream_executor/cuda/cuda_fft.cc:607] Unable to register cuFFT factory: Attempting to register factory for plugin cuFFT when one has already been registered\n",
      "2024-04-28 11:27:33.497237: E external/local_xla/xla/stream_executor/cuda/cuda_blas.cc:1515] Unable to register cuBLAS factory: Attempting to register factory for plugin cuBLAS when one has already been registered\n",
      "2024-04-28 11:27:34.601985: W tensorflow/compiler/tf2tensorrt/utils/py_utils.cc:38] TF-TRT Warning: Could not find TensorRT\n",
      "\u001b[34m\u001b[1mtrain: \u001b[0mweights=/content/weights/gelan-c.pt, cfg=models/detect/gelan-c.yaml, data=/content/yolov9/parking-space-detection-6/data.yaml, hyp=hyp.scratch-high.yaml, epochs=100, batch_size=-1, imgsz=640, rect=False, resume=False, nosave=False, noval=False, noautoanchor=False, noplots=False, evolve=None, bucket=, cache=None, image_weights=False, device=0, multi_scale=False, single_cls=False, optimizer=SGD, sync_bn=False, workers=8, project=runs/train, name=exp, exist_ok=False, quad=False, cos_lr=False, flat_cos_lr=False, fixed_lr=False, label_smoothing=0.0, patience=100, freeze=[0], save_period=-1, seed=0, local_rank=-1, min_items=0, close_mosaic=15, entity=None, upload_dataset=False, bbox_interval=-1, artifact_alias=latest\n",
      "YOLOv5 🚀 1e33dbb Python-3.10.12 torch-2.2.1+cu121 CUDA:0 (Tesla T4, 15102MiB)\n",
      "\n",
      "\u001b[34m\u001b[1mhyperparameters: \u001b[0mlr0=0.01, lrf=0.01, momentum=0.937, weight_decay=0.0005, warmup_epochs=3.0, warmup_momentum=0.8, warmup_bias_lr=0.1, box=7.5, cls=0.5, cls_pw=1.0, dfl=1.5, obj_pw=1.0, iou_t=0.2, anchor_t=5.0, fl_gamma=0.0, hsv_h=0.015, hsv_s=0.7, hsv_v=0.4, degrees=0.0, translate=0.1, scale=0.9, shear=0.0, perspective=0.0, flipud=0.0, fliplr=0.5, mosaic=1.0, mixup=0.15, copy_paste=0.3\n",
      "\u001b[34m\u001b[1mClearML: \u001b[0mrun 'pip install clearml' to automatically track, visualize and remotely train YOLO 🚀 in ClearML\n",
      "\u001b[34m\u001b[1mComet: \u001b[0mrun 'pip install comet_ml' to automatically track and visualize YOLO 🚀 runs in Comet\n",
      "\u001b[34m\u001b[1mTensorBoard: \u001b[0mStart with 'tensorboard --logdir runs/train', view at http://localhost:6006/\n",
      "Downloading https://ultralytics.com/assets/Arial.ttf to /root/.config/Ultralytics/Arial.ttf...\n",
      "100% 755k/755k [00:00<00:00, 4.79MB/s]\n",
      "Overriding model.yaml nc=80 with nc=2\n",
      "\n",
      "                 from  n    params  module                                  arguments                     \n",
      "  0                -1  1      1856  models.common.Conv                      [3, 64, 3, 2]                 \n",
      "  1                -1  1     73984  models.common.Conv                      [64, 128, 3, 2]               \n",
      "  2                -1  1    212864  models.common.RepNCSPELAN4              [128, 256, 128, 64, 1]        \n",
      "  3                -1  1    164352  models.common.ADown                     [256, 256]                    \n",
      "  4                -1  1    847616  models.common.RepNCSPELAN4              [256, 512, 256, 128, 1]       \n",
      "  5                -1  1    656384  models.common.ADown                     [512, 512]                    \n",
      "  6                -1  1   2857472  models.common.RepNCSPELAN4              [512, 512, 512, 256, 1]       \n",
      "  7                -1  1    656384  models.common.ADown                     [512, 512]                    \n",
      "  8                -1  1   2857472  models.common.RepNCSPELAN4              [512, 512, 512, 256, 1]       \n",
      "  9                -1  1    656896  models.common.SPPELAN                   [512, 512, 256]               \n",
      " 10                -1  1         0  torch.nn.modules.upsampling.Upsample    [None, 2, 'nearest']          \n",
      " 11           [-1, 6]  1         0  models.common.Concat                    [1]                           \n",
      " 12                -1  1   3119616  models.common.RepNCSPELAN4              [1024, 512, 512, 256, 1]      \n",
      " 13                -1  1         0  torch.nn.modules.upsampling.Upsample    [None, 2, 'nearest']          \n",
      " 14           [-1, 4]  1         0  models.common.Concat                    [1]                           \n",
      " 15                -1  1    912640  models.common.RepNCSPELAN4              [1024, 256, 256, 128, 1]      \n",
      " 16                -1  1    164352  models.common.ADown                     [256, 256]                    \n",
      " 17          [-1, 12]  1         0  models.common.Concat                    [1]                           \n",
      " 18                -1  1   2988544  models.common.RepNCSPELAN4              [768, 512, 512, 256, 1]       \n",
      " 19                -1  1    656384  models.common.ADown                     [512, 512]                    \n",
      " 20           [-1, 9]  1         0  models.common.Concat                    [1]                           \n",
      " 21                -1  1   3119616  models.common.RepNCSPELAN4              [1024, 512, 512, 256, 1]      \n",
      " 22      [15, 18, 21]  1   5492182  models.yolo.DDetect                     [2, [256, 512, 512]]          \n",
      "gelan-c summary: 621 layers, 25438614 parameters, 25438598 gradients, 103.2 GFLOPs\n",
      "\n",
      "Transferred 931/937 items from /content/weights/gelan-c.pt\n",
      "\u001b[34m\u001b[1mAMP: \u001b[0mchecks passed ✅\n",
      "\u001b[34m\u001b[1mAutoBatch: \u001b[0mComputing optimal batch size for --imgsz 640\n",
      "\u001b[34m\u001b[1mAutoBatch: \u001b[0mCUDA:0 (Tesla T4) 14.75G total, 0.20G reserved, 0.19G allocated, 14.36G free\n",
      "      Params      GFLOPs  GPU_mem (GB)  forward (ms) backward (ms)                   input                  output\n",
      "    25438614       103.2         0.919         55.91         150.1        (1, 3, 640, 640)                    list\n",
      "    25438614       206.3         1.604         67.02         119.8        (2, 3, 640, 640)                    list\n",
      "    25438614       412.7         2.907         83.24           142        (4, 3, 640, 640)                    list\n",
      "    25438614       825.4         5.385         124.2           159        (8, 3, 640, 640)                    list\n",
      "    25438614        1651        10.645         243.8         294.9       (16, 3, 640, 640)                    list\n",
      "\u001b[34m\u001b[1mAutoBatch: \u001b[0mUsing batch-size 17 for CUDA:0 11.66G/14.75G (79%) ✅\n",
      "\u001b[34m\u001b[1moptimizer:\u001b[0m SGD(lr=0.01) with parameter groups 154 weight(decay=0.0), 161 weight(decay=0.00053125), 160 bias\n",
      "\u001b[34m\u001b[1malbumentations: \u001b[0mBlur(p=0.01, blur_limit=(3, 7)), MedianBlur(p=0.01, blur_limit=(3, 7)), ToGray(p=0.01), CLAHE(p=0.01, clip_limit=(1, 4.0), tile_grid_size=(8, 8))\n",
      "/usr/lib/python3.10/multiprocessing/popen_fork.py:66: RuntimeWarning: os.fork() was called. os.fork() is incompatible with multithreaded code, and JAX is multithreaded, so this will likely lead to a deadlock.\n",
      "  self.pid = os.fork()\n",
      "\u001b[34m\u001b[1mtrain: \u001b[0mScanning /content/yolov9/parking-space-detection-6/train/labels... 728 images, 0 backgrounds, 0 corrupt: 100% 728/728 [00:00<00:00, 1167.71it/s]\n",
      "\u001b[34m\u001b[1mtrain: \u001b[0mNew cache created: /content/yolov9/parking-space-detection-6/train/labels.cache\n",
      "\u001b[34m\u001b[1mval: \u001b[0mScanning /content/yolov9/parking-space-detection-6/valid/labels... 71 images, 0 backgrounds, 0 corrupt: 100% 71/71 [00:00<00:00, 876.22it/s]\n",
      "\u001b[34m\u001b[1mval: \u001b[0mNew cache created: /content/yolov9/parking-space-detection-6/valid/labels.cache\n",
      "Plotting labels to runs/train/exp/labels.jpg... \n",
      "Image sizes 640 train, 640 val\n",
      "Using 2 dataloader workers\n",
      "Logging results to \u001b[1mruns/train/exp\u001b[0m\n",
      "Starting training for 100 epochs...\n",
      "/usr/lib/python3.10/multiprocessing/popen_fork.py:66: RuntimeWarning: os.fork() was called. os.fork() is incompatible with multithreaded code, and JAX is multithreaded, so this will likely lead to a deadlock.\n",
      "  self.pid = os.fork()\n",
      "\n",
      "      Epoch    GPU_mem   box_loss   cls_loss   dfl_loss  Instances       Size\n",
      "       0/99      13.4G      1.082      1.925      1.309        203        640: 100% 43/43 [00:55<00:00,  1.28s/it]\n",
      "                 Class     Images  Instances          P          R      mAP50   mAP50-95: 100% 3/3 [00:03<00:00,  1.16s/it]\n",
      "                   all         71        367      0.707      0.563      0.637      0.475\n",
      "/usr/lib/python3.10/multiprocessing/popen_fork.py:66: RuntimeWarning: os.fork() was called. os.fork() is incompatible with multithreaded code, and JAX is multithreaded, so this will likely lead to a deadlock.\n",
      "  self.pid = os.fork()\n",
      "\n",
      "      Epoch    GPU_mem   box_loss   cls_loss   dfl_loss  Instances       Size\n",
      "       1/99      14.2G     0.8961     0.9992      1.182        171        640: 100% 43/43 [00:43<00:00,  1.02s/it]\n",
      "                 Class     Images  Instances          P          R      mAP50   mAP50-95: 100% 3/3 [00:01<00:00,  1.68it/s]\n",
      "                   all         71        367      0.601      0.679      0.675      0.511\n",
      "\n",
      "      Epoch    GPU_mem   box_loss   cls_loss   dfl_loss  Instances       Size\n",
      "       2/99      14.2G     0.9062     0.9087      1.169        136        640: 100% 43/43 [00:43<00:00,  1.02s/it]\n",
      "                 Class     Images  Instances          P          R      mAP50   mAP50-95: 100% 3/3 [00:01<00:00,  1.67it/s]\n",
      "                   all         71        367      0.584      0.603      0.583      0.421\n",
      "\n",
      "      Epoch    GPU_mem   box_loss   cls_loss   dfl_loss  Instances       Size\n",
      "       3/99      14.2G     0.9687     0.8732       1.21         98        640: 100% 43/43 [00:44<00:00,  1.02s/it]\n",
      "                 Class     Images  Instances          P          R      mAP50   mAP50-95: 100% 3/3 [00:01<00:00,  1.72it/s]\n",
      "                   all         71        367      0.668      0.681       0.72      0.507\n",
      "\n",
      "      Epoch    GPU_mem   box_loss   cls_loss   dfl_loss  Instances       Size\n",
      "       4/99      14.2G     0.9547     0.8189      1.184        168        640: 100% 43/43 [00:43<00:00,  1.01s/it]\n",
      "                 Class     Images  Instances          P          R      mAP50   mAP50-95: 100% 3/3 [00:01<00:00,  1.70it/s]\n",
      "                   all         71        367      0.568      0.451       0.47      0.336\n",
      "\n",
      "      Epoch    GPU_mem   box_loss   cls_loss   dfl_loss  Instances       Size\n",
      "       5/99      14.2G     0.9236     0.8065       1.18        134        640: 100% 43/43 [00:43<00:00,  1.00s/it]\n",
      "                 Class     Images  Instances          P          R      mAP50   mAP50-95: 100% 3/3 [00:02<00:00,  1.45it/s]\n",
      "                   all         71        367      0.753      0.775      0.794      0.562\n",
      "\n",
      "      Epoch    GPU_mem   box_loss   cls_loss   dfl_loss  Instances       Size\n",
      "       6/99      14.2G     0.9459     0.8327      1.183        167        640: 100% 43/43 [00:43<00:00,  1.02s/it]\n",
      "                 Class     Images  Instances          P          R      mAP50   mAP50-95: 100% 3/3 [00:01<00:00,  1.64it/s]\n",
      "                   all         71        367      0.712      0.713      0.717      0.523\n",
      "\n",
      "      Epoch    GPU_mem   box_loss   cls_loss   dfl_loss  Instances       Size\n",
      "       7/99      14.2G     0.9547     0.8024      1.198        115        640: 100% 43/43 [00:43<00:00,  1.02s/it]\n",
      "                 Class     Images  Instances          P          R      mAP50   mAP50-95: 100% 3/3 [00:01<00:00,  1.67it/s]\n",
      "                   all         71        367      0.749      0.761      0.794      0.558\n",
      "\n",
      "      Epoch    GPU_mem   box_loss   cls_loss   dfl_loss  Instances       Size\n",
      "       8/99      14.2G     0.9451     0.7677      1.187        157        640: 100% 43/43 [00:43<00:00,  1.02s/it]\n",
      "                 Class     Images  Instances          P          R      mAP50   mAP50-95: 100% 3/3 [00:01<00:00,  1.68it/s]\n",
      "                   all         71        367      0.737      0.766      0.789      0.537\n",
      "\n",
      "      Epoch    GPU_mem   box_loss   cls_loss   dfl_loss  Instances       Size\n",
      "       9/99      14.2G      0.925     0.7657      1.175        173        640: 100% 43/43 [00:43<00:00,  1.02s/it]\n",
      "                 Class     Images  Instances          P          R      mAP50   mAP50-95: 100% 3/3 [00:01<00:00,  1.54it/s]\n",
      "                   all         71        367       0.72      0.668      0.721      0.495\n",
      "\n",
      "      Epoch    GPU_mem   box_loss   cls_loss   dfl_loss  Instances       Size\n",
      "      10/99      14.2G     0.9269     0.7954      1.179        187        640: 100% 43/43 [00:42<00:00,  1.00it/s]\n",
      "                 Class     Images  Instances          P          R      mAP50   mAP50-95: 100% 3/3 [00:01<00:00,  1.69it/s]\n",
      "                   all         71        367      0.793      0.755      0.823      0.586\n",
      "\n",
      "      Epoch    GPU_mem   box_loss   cls_loss   dfl_loss  Instances       Size\n",
      "      11/99      14.2G     0.8976     0.7278      1.153        196        640: 100% 43/43 [00:43<00:00,  1.01s/it]\n",
      "                 Class     Images  Instances          P          R      mAP50   mAP50-95: 100% 3/3 [00:01<00:00,  1.69it/s]\n",
      "                   all         71        367      0.812      0.653      0.738      0.513\n",
      "\n",
      "      Epoch    GPU_mem   box_loss   cls_loss   dfl_loss  Instances       Size\n",
      "      12/99      14.2G     0.8966     0.7107      1.141        243        640: 100% 43/43 [00:43<00:00,  1.01s/it]\n",
      "                 Class     Images  Instances          P          R      mAP50   mAP50-95: 100% 3/3 [00:01<00:00,  1.53it/s]\n",
      "                   all         71        367      0.742      0.681      0.749      0.536\n",
      "\n",
      "      Epoch    GPU_mem   box_loss   cls_loss   dfl_loss  Instances       Size\n",
      "      13/99      14.2G      0.874     0.7085      1.148        203        640: 100% 43/43 [00:42<00:00,  1.01it/s]\n",
      "                 Class     Images  Instances          P          R      mAP50   mAP50-95: 100% 3/3 [00:01<00:00,  1.70it/s]\n",
      "                   all         71        367      0.851      0.741      0.837      0.589\n",
      "\n",
      "      Epoch    GPU_mem   box_loss   cls_loss   dfl_loss  Instances       Size\n",
      "      14/99      15.2G     0.8487     0.6717      1.128        201        640: 100% 43/43 [00:42<00:00,  1.00it/s]\n",
      "                 Class     Images  Instances          P          R      mAP50   mAP50-95: 100% 3/3 [00:01<00:00,  1.69it/s]\n",
      "                   all         71        367      0.764      0.762      0.806      0.579\n",
      "\n",
      "      Epoch    GPU_mem   box_loss   cls_loss   dfl_loss  Instances       Size\n",
      "      15/99      15.2G     0.8819     0.7309      1.174        214        640: 100% 43/43 [00:43<00:00,  1.00s/it]\n",
      "                 Class     Images  Instances          P          R      mAP50   mAP50-95: 100% 3/3 [00:01<00:00,  1.69it/s]\n",
      "                   all         71        367      0.758      0.717      0.756      0.542\n",
      "\n",
      "      Epoch    GPU_mem   box_loss   cls_loss   dfl_loss  Instances       Size\n",
      "      16/99      15.2G     0.8717     0.7118       1.16        315        640: 100% 43/43 [00:44<00:00,  1.02s/it]\n",
      "                 Class     Images  Instances          P          R      mAP50   mAP50-95: 100% 3/3 [00:01<00:00,  1.71it/s]\n",
      "                   all         71        367      0.824      0.721      0.809      0.576\n",
      "\n",
      "      Epoch    GPU_mem   box_loss   cls_loss   dfl_loss  Instances       Size\n",
      "      17/99      15.2G     0.8634      0.684      1.149        214        640: 100% 43/43 [00:43<00:00,  1.02s/it]\n",
      "                 Class     Images  Instances          P          R      mAP50   mAP50-95: 100% 3/3 [00:01<00:00,  1.69it/s]\n",
      "                   all         71        367      0.773       0.69      0.755      0.501\n",
      "\n",
      "      Epoch    GPU_mem   box_loss   cls_loss   dfl_loss  Instances       Size\n",
      "      18/99      15.2G     0.8517     0.6685      1.122        236        640: 100% 43/43 [00:42<00:00,  1.00it/s]\n",
      "                 Class     Images  Instances          P          R      mAP50   mAP50-95: 100% 3/3 [00:02<00:00,  1.50it/s]\n",
      "                   all         71        367       0.78      0.806      0.833      0.587\n",
      "\n",
      "      Epoch    GPU_mem   box_loss   cls_loss   dfl_loss  Instances       Size\n",
      "      19/99      15.2G     0.8554     0.6648      1.125        113        640: 100% 43/43 [00:42<00:00,  1.02it/s]\n",
      "                 Class     Images  Instances          P          R      mAP50   mAP50-95: 100% 3/3 [00:01<00:00,  1.74it/s]\n",
      "                   all         71        367      0.775      0.706      0.775      0.546\n",
      "\n",
      "      Epoch    GPU_mem   box_loss   cls_loss   dfl_loss  Instances       Size\n",
      "      20/99      15.2G     0.8432     0.6665      1.126        159        640: 100% 43/43 [00:42<00:00,  1.02it/s]\n",
      "                 Class     Images  Instances          P          R      mAP50   mAP50-95: 100% 3/3 [00:01<00:00,  1.62it/s]\n",
      "                   all         71        367      0.817      0.768      0.843      0.601\n",
      "\n",
      "      Epoch    GPU_mem   box_loss   cls_loss   dfl_loss  Instances       Size\n",
      "      21/99      15.2G     0.8403     0.6664       1.13        169        640: 100% 43/43 [00:42<00:00,  1.00it/s]\n",
      "                 Class     Images  Instances          P          R      mAP50   mAP50-95: 100% 3/3 [00:01<00:00,  1.61it/s]\n",
      "                   all         71        367      0.803       0.78       0.83      0.603\n",
      "\n",
      "      Epoch    GPU_mem   box_loss   cls_loss   dfl_loss  Instances       Size\n",
      "      22/99      15.2G     0.8245     0.6454      1.116        241        640: 100% 43/43 [00:42<00:00,  1.01it/s]\n",
      "                 Class     Images  Instances          P          R      mAP50   mAP50-95: 100% 3/3 [00:01<00:00,  1.76it/s]\n",
      "                   all         71        367      0.858      0.729      0.828      0.582\n",
      "\n",
      "      Epoch    GPU_mem   box_loss   cls_loss   dfl_loss  Instances       Size\n",
      "      23/99      15.2G     0.8232     0.6354      1.121        166        640: 100% 43/43 [00:42<00:00,  1.00it/s]\n",
      "                 Class     Images  Instances          P          R      mAP50   mAP50-95: 100% 3/3 [00:01<00:00,  1.73it/s]\n",
      "                   all         71        367      0.801       0.81      0.835      0.604\n",
      "\n",
      "      Epoch    GPU_mem   box_loss   cls_loss   dfl_loss  Instances       Size\n",
      "      24/99      15.2G     0.8234     0.6492       1.13        118        640: 100% 43/43 [00:42<00:00,  1.02it/s]\n",
      "                 Class     Images  Instances          P          R      mAP50   mAP50-95: 100% 3/3 [00:01<00:00,  1.62it/s]\n",
      "                   all         71        367      0.844      0.781      0.842      0.602\n",
      "\n",
      "      Epoch    GPU_mem   box_loss   cls_loss   dfl_loss  Instances       Size\n",
      "      25/99      15.2G     0.8028     0.6269      1.108        123        640: 100% 43/43 [00:41<00:00,  1.03it/s]\n",
      "                 Class     Images  Instances          P          R      mAP50   mAP50-95: 100% 3/3 [00:01<00:00,  1.76it/s]\n",
      "                   all         71        367      0.793      0.717      0.771      0.537\n",
      "\n",
      "      Epoch    GPU_mem   box_loss   cls_loss   dfl_loss  Instances       Size\n",
      "      26/99      15.2G     0.8158     0.6298      1.107        160        640: 100% 43/43 [00:43<00:00,  1.00s/it]\n",
      "                 Class     Images  Instances          P          R      mAP50   mAP50-95: 100% 3/3 [00:01<00:00,  1.77it/s]\n",
      "                   all         71        367      0.877      0.793      0.857      0.617\n",
      "\n",
      "      Epoch    GPU_mem   box_loss   cls_loss   dfl_loss  Instances       Size\n",
      "      27/99      15.2G     0.7964     0.6046      1.091        192        640: 100% 43/43 [00:41<00:00,  1.03it/s]\n",
      "                 Class     Images  Instances          P          R      mAP50   mAP50-95: 100% 3/3 [00:01<00:00,  1.78it/s]\n",
      "                   all         71        367      0.831      0.802      0.837      0.612\n",
      "\n",
      "      Epoch    GPU_mem   box_loss   cls_loss   dfl_loss  Instances       Size\n",
      "      28/99      15.2G     0.7704     0.5949      1.097        154        640: 100% 43/43 [00:42<00:00,  1.02it/s]\n",
      "                 Class     Images  Instances          P          R      mAP50   mAP50-95: 100% 3/3 [00:01<00:00,  1.78it/s]\n",
      "                   all         71        367      0.846      0.784      0.827      0.617\n",
      "\n",
      "      Epoch    GPU_mem   box_loss   cls_loss   dfl_loss  Instances       Size\n",
      "      29/99      15.2G     0.8021     0.6207      1.104        207        640: 100% 43/43 [00:42<00:00,  1.02it/s]\n",
      "                 Class     Images  Instances          P          R      mAP50   mAP50-95: 100% 3/3 [00:01<00:00,  1.78it/s]\n",
      "                   all         71        367      0.834       0.76      0.837      0.615\n",
      "\n",
      "      Epoch    GPU_mem   box_loss   cls_loss   dfl_loss  Instances       Size\n",
      "      30/99      15.2G     0.7989     0.5975        1.1        204        640: 100% 43/43 [00:42<00:00,  1.00it/s]\n",
      "                 Class     Images  Instances          P          R      mAP50   mAP50-95: 100% 3/3 [00:01<00:00,  1.77it/s]\n",
      "                   all         71        367      0.846      0.741      0.837      0.617\n",
      "\n",
      "      Epoch    GPU_mem   box_loss   cls_loss   dfl_loss  Instances       Size\n",
      "      31/99      15.2G     0.7897     0.6067      1.094        181        640: 100% 43/43 [00:42<00:00,  1.02it/s]\n",
      "                 Class     Images  Instances          P          R      mAP50   mAP50-95: 100% 3/3 [00:01<00:00,  1.69it/s]\n",
      "                   all         71        367      0.899      0.738      0.846      0.614\n",
      "\n",
      "      Epoch    GPU_mem   box_loss   cls_loss   dfl_loss  Instances       Size\n",
      "      32/99      15.2G      0.755     0.5747      1.074        153        640: 100% 43/43 [00:41<00:00,  1.03it/s]\n",
      "                 Class     Images  Instances          P          R      mAP50   mAP50-95: 100% 3/3 [00:01<00:00,  1.77it/s]\n",
      "                   all         71        367      0.879      0.805      0.864      0.625\n",
      "\n",
      "      Epoch    GPU_mem   box_loss   cls_loss   dfl_loss  Instances       Size\n",
      "      33/99      15.2G     0.7886     0.6002      1.101        141        640: 100% 43/43 [00:43<00:00,  1.01s/it]\n",
      "                 Class     Images  Instances          P          R      mAP50   mAP50-95: 100% 3/3 [00:01<00:00,  1.78it/s]\n",
      "                   all         71        367      0.838      0.829      0.865       0.65\n",
      "\n",
      "      Epoch    GPU_mem   box_loss   cls_loss   dfl_loss  Instances       Size\n",
      "      34/99      15.2G     0.7754     0.5748      1.084        246        640: 100% 43/43 [00:42<00:00,  1.02it/s]\n",
      "                 Class     Images  Instances          P          R      mAP50   mAP50-95: 100% 3/3 [00:02<00:00,  1.47it/s]\n",
      "                   all         71        367      0.834      0.808      0.863      0.639\n",
      "\n",
      "      Epoch    GPU_mem   box_loss   cls_loss   dfl_loss  Instances       Size\n",
      "      35/99      15.2G     0.7537     0.5677      1.081        202        640: 100% 43/43 [00:41<00:00,  1.03it/s]\n",
      "                 Class     Images  Instances          P          R      mAP50   mAP50-95: 100% 3/3 [00:01<00:00,  1.75it/s]\n",
      "                   all         71        367      0.837      0.801      0.863       0.64\n",
      "\n",
      "      Epoch    GPU_mem   box_loss   cls_loss   dfl_loss  Instances       Size\n",
      "      36/99      15.2G      0.763     0.5574      1.065        183        640: 100% 43/43 [00:42<00:00,  1.02it/s]\n",
      "                 Class     Images  Instances          P          R      mAP50   mAP50-95: 100% 3/3 [00:01<00:00,  1.77it/s]\n",
      "                   all         71        367      0.827        0.8      0.836      0.597\n",
      "\n",
      "      Epoch    GPU_mem   box_loss   cls_loss   dfl_loss  Instances       Size\n",
      "      37/99      15.2G     0.7574     0.5615      1.065        201        640: 100% 43/43 [00:42<00:00,  1.02it/s]\n",
      "                 Class     Images  Instances          P          R      mAP50   mAP50-95: 100% 3/3 [00:01<00:00,  1.61it/s]\n",
      "                   all         71        367      0.841      0.807       0.85      0.627\n",
      "\n",
      "      Epoch    GPU_mem   box_loss   cls_loss   dfl_loss  Instances       Size\n",
      "      38/99      15.2G     0.7465      0.556      1.076        192        640: 100% 43/43 [00:42<00:00,  1.02it/s]\n",
      "                 Class     Images  Instances          P          R      mAP50   mAP50-95: 100% 3/3 [00:01<00:00,  1.76it/s]\n",
      "                   all         71        367      0.781      0.827      0.842      0.628\n",
      "\n",
      "      Epoch    GPU_mem   box_loss   cls_loss   dfl_loss  Instances       Size\n",
      "      39/99      15.2G     0.7542      0.574      1.089        166        640: 100% 43/43 [00:42<00:00,  1.01it/s]\n",
      "                 Class     Images  Instances          P          R      mAP50   mAP50-95: 100% 3/3 [00:01<00:00,  1.77it/s]\n",
      "                   all         71        367      0.851      0.753      0.836      0.622\n",
      "\n",
      "      Epoch    GPU_mem   box_loss   cls_loss   dfl_loss  Instances       Size\n",
      "      40/99      15.2G     0.7276     0.5436      1.063        228        640: 100% 43/43 [00:42<00:00,  1.02it/s]\n",
      "                 Class     Images  Instances          P          R      mAP50   mAP50-95: 100% 3/3 [00:01<00:00,  1.76it/s]\n",
      "                   all         71        367      0.808       0.79      0.822        0.6\n",
      "\n",
      "      Epoch    GPU_mem   box_loss   cls_loss   dfl_loss  Instances       Size\n",
      "      41/99      15.2G     0.7225     0.5357      1.072        186        640: 100% 43/43 [00:41<00:00,  1.03it/s]\n",
      "                 Class     Images  Instances          P          R      mAP50   mAP50-95: 100% 3/3 [00:01<00:00,  1.77it/s]\n",
      "                   all         71        367      0.839      0.756      0.834      0.642\n",
      "\n",
      "      Epoch    GPU_mem   box_loss   cls_loss   dfl_loss  Instances       Size\n",
      "      42/99      15.2G     0.7431     0.5549      1.076        223        640: 100% 43/43 [00:42<00:00,  1.01it/s]\n",
      "                 Class     Images  Instances          P          R      mAP50   mAP50-95: 100% 3/3 [00:01<00:00,  1.64it/s]\n",
      "                   all         71        367      0.852       0.81       0.86      0.643\n",
      "\n",
      "      Epoch    GPU_mem   box_loss   cls_loss   dfl_loss  Instances       Size\n",
      "      43/99      15.2G     0.7289     0.5429      1.059        136        640: 100% 43/43 [00:42<00:00,  1.02it/s]\n",
      "                 Class     Images  Instances          P          R      mAP50   mAP50-95: 100% 3/3 [00:01<00:00,  1.75it/s]\n",
      "                   all         71        367      0.865      0.792      0.858      0.633\n",
      "\n",
      "      Epoch    GPU_mem   box_loss   cls_loss   dfl_loss  Instances       Size\n",
      "      44/99      15.2G     0.7184     0.5272      1.053        214        640: 100% 43/43 [00:42<00:00,  1.02it/s]\n",
      "                 Class     Images  Instances          P          R      mAP50   mAP50-95: 100% 3/3 [00:01<00:00,  1.77it/s]\n",
      "                   all         71        367      0.884      0.775      0.862      0.654\n",
      "\n",
      "      Epoch    GPU_mem   box_loss   cls_loss   dfl_loss  Instances       Size\n",
      "      45/99      15.2G     0.7268     0.5298      1.062        153        640: 100% 43/43 [00:42<00:00,  1.02it/s]\n",
      "                 Class     Images  Instances          P          R      mAP50   mAP50-95: 100% 3/3 [00:01<00:00,  1.52it/s]\n",
      "                   all         71        367      0.856      0.819      0.854      0.648\n",
      "\n",
      "      Epoch    GPU_mem   box_loss   cls_loss   dfl_loss  Instances       Size\n",
      "      46/99      15.2G     0.7164     0.5304      1.055        143        640: 100% 43/43 [00:42<00:00,  1.02it/s]\n",
      "                 Class     Images  Instances          P          R      mAP50   mAP50-95: 100% 3/3 [00:01<00:00,  1.76it/s]\n",
      "                   all         71        367      0.886      0.816      0.875      0.659\n",
      "\n",
      "      Epoch    GPU_mem   box_loss   cls_loss   dfl_loss  Instances       Size\n",
      "      47/99      15.2G     0.6983     0.5113      1.052        196        640: 100% 43/43 [00:42<00:00,  1.01it/s]\n",
      "                 Class     Images  Instances          P          R      mAP50   mAP50-95: 100% 3/3 [00:01<00:00,  1.78it/s]\n",
      "                   all         71        367      0.853      0.832      0.883      0.668\n",
      "\n",
      "      Epoch    GPU_mem   box_loss   cls_loss   dfl_loss  Instances       Size\n",
      "      48/99      15.2G     0.7125     0.5153      1.052        232        640: 100% 43/43 [00:42<00:00,  1.00it/s]\n",
      "                 Class     Images  Instances          P          R      mAP50   mAP50-95: 100% 3/3 [00:01<00:00,  1.52it/s]\n",
      "                   all         71        367      0.844      0.824      0.872      0.657\n",
      "\n",
      "      Epoch    GPU_mem   box_loss   cls_loss   dfl_loss  Instances       Size\n",
      "      49/99      15.2G     0.7234     0.5265       1.06        229        640: 100% 43/43 [00:42<00:00,  1.00it/s]\n",
      "                 Class     Images  Instances          P          R      mAP50   mAP50-95: 100% 3/3 [00:01<00:00,  1.76it/s]\n",
      "                   all         71        367      0.867      0.806      0.869      0.653\n",
      "\n",
      "      Epoch    GPU_mem   box_loss   cls_loss   dfl_loss  Instances       Size\n",
      "      50/99      15.2G     0.7045     0.5107      1.048        193        640: 100% 43/43 [00:42<00:00,  1.01it/s]\n",
      "                 Class     Images  Instances          P          R      mAP50   mAP50-95: 100% 3/3 [00:01<00:00,  1.76it/s]\n",
      "                   all         71        367      0.848      0.824      0.869      0.667\n",
      "\n",
      "      Epoch    GPU_mem   box_loss   cls_loss   dfl_loss  Instances       Size\n",
      "      51/99      12.4G     0.6977     0.5025      1.045        236        640: 100% 43/43 [00:42<00:00,  1.02it/s]\n",
      "                 Class     Images  Instances          P          R      mAP50   mAP50-95: 100% 3/3 [00:01<00:00,  1.74it/s]\n",
      "                   all         71        367      0.874      0.796      0.864      0.641\n",
      "\n",
      "      Epoch    GPU_mem   box_loss   cls_loss   dfl_loss  Instances       Size\n",
      "      52/99      13.7G     0.6951     0.4842      1.031        187        640: 100% 43/43 [00:42<00:00,  1.01it/s]\n",
      "                 Class     Images  Instances          P          R      mAP50   mAP50-95: 100% 3/3 [00:01<00:00,  1.76it/s]\n",
      "                   all         71        367      0.864      0.774      0.873      0.652\n",
      "\n",
      "      Epoch    GPU_mem   box_loss   cls_loss   dfl_loss  Instances       Size\n",
      "      53/99      13.7G      0.692     0.4976       1.04        181        640: 100% 43/43 [00:42<00:00,  1.01it/s]\n",
      "                 Class     Images  Instances          P          R      mAP50   mAP50-95: 100% 3/3 [00:01<00:00,  1.62it/s]\n",
      "                   all         71        367      0.838      0.786      0.855       0.64\n",
      "\n",
      "      Epoch    GPU_mem   box_loss   cls_loss   dfl_loss  Instances       Size\n",
      "      54/99      13.7G     0.7017     0.5047      1.049        158        640: 100% 43/43 [00:42<00:00,  1.01it/s]\n",
      "                 Class     Images  Instances          P          R      mAP50   mAP50-95: 100% 3/3 [00:01<00:00,  1.77it/s]\n",
      "                   all         71        367      0.835      0.795      0.837      0.631\n",
      "\n",
      "      Epoch    GPU_mem   box_loss   cls_loss   dfl_loss  Instances       Size\n",
      "      55/99      13.7G     0.6874     0.4927      1.049        224        640: 100% 43/43 [00:43<00:00,  1.01s/it]\n",
      "                 Class     Images  Instances          P          R      mAP50   mAP50-95: 100% 3/3 [00:01<00:00,  1.75it/s]\n",
      "                   all         71        367        0.8      0.819      0.848      0.642\n",
      "\n",
      "      Epoch    GPU_mem   box_loss   cls_loss   dfl_loss  Instances       Size\n",
      "      56/99      13.7G     0.6807     0.4818      1.033        161        640: 100% 43/43 [00:42<00:00,  1.02it/s]\n",
      "                 Class     Images  Instances          P          R      mAP50   mAP50-95: 100% 3/3 [00:01<00:00,  1.60it/s]\n",
      "                   all         71        367      0.907       0.81      0.886      0.665\n",
      "\n",
      "      Epoch    GPU_mem   box_loss   cls_loss   dfl_loss  Instances       Size\n",
      "      57/99      13.7G     0.6715     0.4745      1.031        227        640: 100% 43/43 [00:42<00:00,  1.02it/s]\n",
      "                 Class     Images  Instances          P          R      mAP50   mAP50-95: 100% 3/3 [00:01<00:00,  1.78it/s]\n",
      "                   all         71        367      0.879       0.83      0.889      0.659\n",
      "\n",
      "      Epoch    GPU_mem   box_loss   cls_loss   dfl_loss  Instances       Size\n",
      "      58/99      13.7G     0.6606     0.4696      1.026        197        640: 100% 43/43 [00:42<00:00,  1.00it/s]\n",
      "                 Class     Images  Instances          P          R      mAP50   mAP50-95: 100% 3/3 [00:01<00:00,  1.77it/s]\n",
      "                   all         71        367      0.853      0.794      0.863      0.641\n",
      "\n",
      "      Epoch    GPU_mem   box_loss   cls_loss   dfl_loss  Instances       Size\n",
      "      59/99      13.7G     0.6656     0.4652      1.022        228        640: 100% 43/43 [00:41<00:00,  1.04it/s]\n",
      "                 Class     Images  Instances          P          R      mAP50   mAP50-95: 100% 3/3 [00:01<00:00,  1.77it/s]\n",
      "                   all         71        367      0.835      0.813      0.858      0.643\n",
      "\n",
      "      Epoch    GPU_mem   box_loss   cls_loss   dfl_loss  Instances       Size\n",
      "      60/99      13.7G     0.6764     0.4806      1.032        151        640: 100% 43/43 [00:43<00:00,  1.00s/it]\n",
      "                 Class     Images  Instances          P          R      mAP50   mAP50-95: 100% 3/3 [00:01<00:00,  1.77it/s]\n",
      "                   all         71        367      0.871      0.808      0.886      0.675\n",
      "\n",
      "      Epoch    GPU_mem   box_loss   cls_loss   dfl_loss  Instances       Size\n",
      "      61/99      13.7G     0.6491      0.463      1.026        203        640: 100% 43/43 [00:42<00:00,  1.00it/s]\n",
      "                 Class     Images  Instances          P          R      mAP50   mAP50-95: 100% 3/3 [00:01<00:00,  1.77it/s]\n",
      "                   all         71        367      0.882      0.783      0.867      0.663\n",
      "\n",
      "      Epoch    GPU_mem   box_loss   cls_loss   dfl_loss  Instances       Size\n",
      "      62/99      13.7G     0.6596     0.4645      1.017        208        640: 100% 43/43 [00:42<00:00,  1.02it/s]\n",
      "                 Class     Images  Instances          P          R      mAP50   mAP50-95: 100% 3/3 [00:01<00:00,  1.76it/s]\n",
      "                   all         71        367      0.873      0.794      0.855      0.662\n",
      "\n",
      "      Epoch    GPU_mem   box_loss   cls_loss   dfl_loss  Instances       Size\n",
      "      63/99      13.7G     0.6549     0.4624      1.018        183        640: 100% 43/43 [00:42<00:00,  1.02it/s]\n",
      "                 Class     Images  Instances          P          R      mAP50   mAP50-95: 100% 3/3 [00:01<00:00,  1.75it/s]\n",
      "                   all         71        367       0.86      0.821      0.858      0.651\n",
      "\n",
      "      Epoch    GPU_mem   box_loss   cls_loss   dfl_loss  Instances       Size\n",
      "      64/99      13.7G     0.6575     0.4635      1.014        171        640: 100% 43/43 [00:42<00:00,  1.01it/s]\n",
      "                 Class     Images  Instances          P          R      mAP50   mAP50-95: 100% 3/3 [00:01<00:00,  1.69it/s]\n",
      "                   all         71        367      0.865      0.794      0.868      0.662\n",
      "\n",
      "      Epoch    GPU_mem   box_loss   cls_loss   dfl_loss  Instances       Size\n",
      "      65/99      13.7G     0.6489     0.4639      1.022        174        640: 100% 43/43 [00:42<00:00,  1.01it/s]\n",
      "                 Class     Images  Instances          P          R      mAP50   mAP50-95: 100% 3/3 [00:01<00:00,  1.77it/s]\n",
      "                   all         71        367      0.848      0.801      0.865      0.658\n",
      "\n",
      "      Epoch    GPU_mem   box_loss   cls_loss   dfl_loss  Instances       Size\n",
      "      66/99      13.7G     0.6254     0.4368     0.9996        223        640: 100% 43/43 [00:43<00:00,  1.00s/it]\n",
      "                 Class     Images  Instances          P          R      mAP50   mAP50-95: 100% 3/3 [00:01<00:00,  1.76it/s]\n",
      "                   all         71        367      0.857      0.811      0.855      0.641\n",
      "\n",
      "      Epoch    GPU_mem   box_loss   cls_loss   dfl_loss  Instances       Size\n",
      "      67/99      13.7G      0.618     0.4352      1.005        155        640: 100% 43/43 [00:42<00:00,  1.01it/s]\n",
      "                 Class     Images  Instances          P          R      mAP50   mAP50-95: 100% 3/3 [00:01<00:00,  1.65it/s]\n",
      "                   all         71        367      0.854      0.837       0.87       0.66\n",
      "\n",
      "      Epoch    GPU_mem   box_loss   cls_loss   dfl_loss  Instances       Size\n",
      "      68/99      13.7G     0.6278      0.436     0.9967        212        640: 100% 43/43 [00:43<00:00,  1.00s/it]\n",
      "                 Class     Images  Instances          P          R      mAP50   mAP50-95: 100% 3/3 [00:01<00:00,  1.75it/s]\n",
      "                   all         71        367      0.866      0.801      0.849      0.631\n",
      "\n",
      "      Epoch    GPU_mem   box_loss   cls_loss   dfl_loss  Instances       Size\n",
      "      69/99      13.7G     0.6202     0.4274     0.9939        197        640: 100% 43/43 [00:42<00:00,  1.00it/s]\n",
      "                 Class     Images  Instances          P          R      mAP50   mAP50-95: 100% 3/3 [00:01<00:00,  1.73it/s]\n",
      "                   all         71        367      0.899       0.79       0.86      0.651\n",
      "\n",
      "      Epoch    GPU_mem   box_loss   cls_loss   dfl_loss  Instances       Size\n",
      "      70/99      13.7G     0.6178     0.4154     0.9876        242        640: 100% 43/43 [00:42<00:00,  1.02it/s]\n",
      "                 Class     Images  Instances          P          R      mAP50   mAP50-95: 100% 3/3 [00:01<00:00,  1.70it/s]\n",
      "                   all         71        367      0.866      0.791      0.862      0.656\n",
      "\n",
      "      Epoch    GPU_mem   box_loss   cls_loss   dfl_loss  Instances       Size\n",
      "      71/99      13.7G     0.6284      0.433      1.005        214        640: 100% 43/43 [00:42<00:00,  1.01it/s]\n",
      "                 Class     Images  Instances          P          R      mAP50   mAP50-95: 100% 3/3 [00:01<00:00,  1.76it/s]\n",
      "                   all         71        367      0.888      0.768      0.867      0.658\n",
      "\n",
      "      Epoch    GPU_mem   box_loss   cls_loss   dfl_loss  Instances       Size\n",
      "      72/99      13.7G     0.6233     0.4367      1.002        173        640: 100% 43/43 [00:42<00:00,  1.01it/s]\n",
      "                 Class     Images  Instances          P          R      mAP50   mAP50-95: 100% 3/3 [00:01<00:00,  1.62it/s]\n",
      "                   all         71        367      0.857      0.807      0.877      0.662\n",
      "\n",
      "      Epoch    GPU_mem   box_loss   cls_loss   dfl_loss  Instances       Size\n",
      "      73/99      13.7G     0.6161       0.42     0.9923        196        640: 100% 43/43 [00:42<00:00,  1.01it/s]\n",
      "                 Class     Images  Instances          P          R      mAP50   mAP50-95: 100% 3/3 [00:01<00:00,  1.78it/s]\n",
      "                   all         71        367       0.86      0.833      0.888      0.684\n",
      "\n",
      "      Epoch    GPU_mem   box_loss   cls_loss   dfl_loss  Instances       Size\n",
      "      74/99      13.7G     0.6134     0.4267     0.9968        165        640: 100% 43/43 [00:44<00:00,  1.03s/it]\n",
      "                 Class     Images  Instances          P          R      mAP50   mAP50-95: 100% 3/3 [00:01<00:00,  1.77it/s]\n",
      "                   all         71        367      0.897      0.806      0.893      0.678\n",
      "\n",
      "      Epoch    GPU_mem   box_loss   cls_loss   dfl_loss  Instances       Size\n",
      "      75/99      13.7G     0.6106     0.4238     0.9918        176        640: 100% 43/43 [00:43<00:00,  1.01s/it]\n",
      "                 Class     Images  Instances          P          R      mAP50   mAP50-95: 100% 3/3 [00:01<00:00,  1.63it/s]\n",
      "                   all         71        367      0.873      0.831      0.875       0.66\n",
      "\n",
      "      Epoch    GPU_mem   box_loss   cls_loss   dfl_loss  Instances       Size\n",
      "      76/99      13.7G     0.6055     0.4179       0.99        235        640: 100% 43/43 [00:42<00:00,  1.00it/s]\n",
      "                 Class     Images  Instances          P          R      mAP50   mAP50-95: 100% 3/3 [00:01<00:00,  1.77it/s]\n",
      "                   all         71        367      0.897      0.792      0.877       0.67\n",
      "\n",
      "      Epoch    GPU_mem   box_loss   cls_loss   dfl_loss  Instances       Size\n",
      "      77/99      13.7G     0.5982     0.4065     0.9792        297        640: 100% 43/43 [00:42<00:00,  1.01it/s]\n",
      "                 Class     Images  Instances          P          R      mAP50   mAP50-95: 100% 3/3 [00:01<00:00,  1.77it/s]\n",
      "                   all         71        367      0.902      0.811      0.879      0.685\n",
      "\n",
      "      Epoch    GPU_mem   box_loss   cls_loss   dfl_loss  Instances       Size\n",
      "      78/99      13.7G     0.6033     0.4226     0.9939        112        640: 100% 43/43 [00:43<00:00,  1.00s/it]\n",
      "                 Class     Images  Instances          P          R      mAP50   mAP50-95: 100% 3/3 [00:01<00:00,  1.78it/s]\n",
      "                   all         71        367      0.923      0.779      0.866      0.666\n",
      "\n",
      "      Epoch    GPU_mem   box_loss   cls_loss   dfl_loss  Instances       Size\n",
      "      79/99      13.7G      0.613      0.424     0.9966        216        640: 100% 43/43 [00:42<00:00,  1.00it/s]\n",
      "                 Class     Images  Instances          P          R      mAP50   mAP50-95: 100% 3/3 [00:01<00:00,  1.76it/s]\n",
      "                   all         71        367      0.928       0.79      0.863      0.663\n",
      "\n",
      "      Epoch    GPU_mem   box_loss   cls_loss   dfl_loss  Instances       Size\n",
      "      80/99      13.7G       0.61     0.4211     0.9938        150        640: 100% 43/43 [00:43<00:00,  1.01s/it]\n",
      "                 Class     Images  Instances          P          R      mAP50   mAP50-95: 100% 3/3 [00:01<00:00,  1.78it/s]\n",
      "                   all         71        367      0.894       0.79      0.877      0.673\n",
      "\n",
      "      Epoch    GPU_mem   box_loss   cls_loss   dfl_loss  Instances       Size\n",
      "      81/99      13.7G      0.598       0.41     0.9899        165        640: 100% 43/43 [00:43<00:00,  1.00s/it]\n",
      "                 Class     Images  Instances          P          R      mAP50   mAP50-95: 100% 3/3 [00:01<00:00,  1.78it/s]\n",
      "                   all         71        367      0.922      0.798      0.875       0.66\n",
      "\n",
      "      Epoch    GPU_mem   box_loss   cls_loss   dfl_loss  Instances       Size\n",
      "      82/99      13.7G     0.5975     0.4115     0.9889        117        640: 100% 43/43 [00:42<00:00,  1.02it/s]\n",
      "                 Class     Images  Instances          P          R      mAP50   mAP50-95: 100% 3/3 [00:01<00:00,  1.65it/s]\n",
      "                   all         71        367      0.908      0.806       0.87      0.666\n",
      "\n",
      "      Epoch    GPU_mem   box_loss   cls_loss   dfl_loss  Instances       Size\n",
      "      83/99      13.7G      0.593     0.4011      0.982        173        640: 100% 43/43 [00:42<00:00,  1.01it/s]\n",
      "                 Class     Images  Instances          P          R      mAP50   mAP50-95: 100% 3/3 [00:01<00:00,  1.79it/s]\n",
      "                   all         71        367      0.901       0.79      0.868      0.666\n",
      "\n",
      "      Epoch    GPU_mem   box_loss   cls_loss   dfl_loss  Instances       Size\n",
      "      84/99      13.7G      0.578     0.3888     0.9759        140        640: 100% 43/43 [00:42<00:00,  1.00it/s]\n",
      "                 Class     Images  Instances          P          R      mAP50   mAP50-95: 100% 3/3 [00:01<00:00,  1.76it/s]\n",
      "                   all         71        367        0.9      0.809      0.864      0.659\n",
      "Closing dataloader mosaic\n",
      "\n",
      "      Epoch    GPU_mem   box_loss   cls_loss   dfl_loss  Instances       Size\n",
      "      85/99      13.7G     0.4925     0.3118     0.9983         50        640: 100% 43/43 [00:34<00:00,  1.24it/s]\n",
      "                 Class     Images  Instances          P          R      mAP50   mAP50-95: 100% 3/3 [00:01<00:00,  1.78it/s]\n",
      "                   all         71        367      0.877       0.82      0.852      0.635\n",
      "\n",
      "      Epoch    GPU_mem   box_loss   cls_loss   dfl_loss  Instances       Size\n",
      "      86/99      13.7G     0.4568     0.2917     0.9631         56        640: 100% 43/43 [00:34<00:00,  1.24it/s]\n",
      "                 Class     Images  Instances          P          R      mAP50   mAP50-95: 100% 3/3 [00:01<00:00,  1.75it/s]\n",
      "                   all         71        367        0.9        0.8      0.872       0.66\n",
      "\n",
      "      Epoch    GPU_mem   box_loss   cls_loss   dfl_loss  Instances       Size\n",
      "      87/99      13.7G     0.4377     0.2753     0.9372         70        640: 100% 43/43 [00:34<00:00,  1.24it/s]\n",
      "                 Class     Images  Instances          P          R      mAP50   mAP50-95: 100% 3/3 [00:01<00:00,  1.77it/s]\n",
      "                   all         71        367      0.869      0.803      0.874      0.664\n",
      "\n",
      "      Epoch    GPU_mem   box_loss   cls_loss   dfl_loss  Instances       Size\n",
      "      88/99      13.7G     0.4259     0.2668     0.9173         66        640: 100% 43/43 [00:35<00:00,  1.23it/s]\n",
      "                 Class     Images  Instances          P          R      mAP50   mAP50-95: 100% 3/3 [00:01<00:00,  1.76it/s]\n",
      "                   all         71        367      0.879      0.814      0.879      0.664\n",
      "\n",
      "      Epoch    GPU_mem   box_loss   cls_loss   dfl_loss  Instances       Size\n",
      "      89/99      13.7G     0.4215     0.2652     0.9275         71        640: 100% 43/43 [00:34<00:00,  1.25it/s]\n",
      "                 Class     Images  Instances          P          R      mAP50   mAP50-95: 100% 3/3 [00:01<00:00,  1.60it/s]\n",
      "                   all         71        367      0.872      0.823      0.875      0.667\n",
      "\n",
      "      Epoch    GPU_mem   box_loss   cls_loss   dfl_loss  Instances       Size\n",
      "      90/99      13.7G     0.4131     0.2584     0.9164         53        640: 100% 43/43 [00:34<00:00,  1.24it/s]\n",
      "                 Class     Images  Instances          P          R      mAP50   mAP50-95: 100% 3/3 [00:01<00:00,  1.52it/s]\n",
      "                   all         71        367      0.897      0.802      0.882      0.677\n",
      "\n",
      "      Epoch    GPU_mem   box_loss   cls_loss   dfl_loss  Instances       Size\n",
      "      91/99      13.7G     0.4068     0.2585      0.919         50        640: 100% 43/43 [00:34<00:00,  1.24it/s]\n",
      "                 Class     Images  Instances          P          R      mAP50   mAP50-95: 100% 3/3 [00:01<00:00,  1.61it/s]\n",
      "                   all         71        367      0.888      0.826       0.88      0.668\n",
      "\n",
      "      Epoch    GPU_mem   box_loss   cls_loss   dfl_loss  Instances       Size\n",
      "      92/99      13.7G     0.3962     0.2491     0.9074         51        640: 100% 43/43 [00:34<00:00,  1.24it/s]\n",
      "                 Class     Images  Instances          P          R      mAP50   mAP50-95: 100% 3/3 [00:01<00:00,  1.75it/s]\n",
      "                   all         71        367      0.915      0.815      0.891      0.681\n",
      "\n",
      "      Epoch    GPU_mem   box_loss   cls_loss   dfl_loss  Instances       Size\n",
      "      93/99      13.7G     0.3959     0.2538     0.9043         61        640: 100% 43/43 [00:34<00:00,  1.24it/s]\n",
      "                 Class     Images  Instances          P          R      mAP50   mAP50-95: 100% 3/3 [00:01<00:00,  1.76it/s]\n",
      "                   all         71        367       0.89      0.819       0.88      0.677\n",
      "\n",
      "      Epoch    GPU_mem   box_loss   cls_loss   dfl_loss  Instances       Size\n",
      "      94/99      13.7G     0.3874     0.2474     0.9046         80        640: 100% 43/43 [00:34<00:00,  1.23it/s]\n",
      "                 Class     Images  Instances          P          R      mAP50   mAP50-95: 100% 3/3 [00:01<00:00,  1.76it/s]\n",
      "                   all         71        367      0.915      0.823      0.895      0.689\n",
      "\n",
      "      Epoch    GPU_mem   box_loss   cls_loss   dfl_loss  Instances       Size\n",
      "      95/99      13.7G     0.3763     0.2402     0.9044         58        640: 100% 43/43 [00:35<00:00,  1.22it/s]\n",
      "                 Class     Images  Instances          P          R      mAP50   mAP50-95: 100% 3/3 [00:01<00:00,  1.75it/s]\n",
      "                   all         71        367      0.901      0.818      0.884      0.676\n",
      "\n",
      "      Epoch    GPU_mem   box_loss   cls_loss   dfl_loss  Instances       Size\n",
      "      96/99      13.7G      0.368     0.2341     0.8972         57        640: 100% 43/43 [00:35<00:00,  1.22it/s]\n",
      "                 Class     Images  Instances          P          R      mAP50   mAP50-95: 100% 3/3 [00:01<00:00,  1.77it/s]\n",
      "                   all         71        367      0.913      0.818       0.89      0.678\n",
      "\n",
      "      Epoch    GPU_mem   box_loss   cls_loss   dfl_loss  Instances       Size\n",
      "      97/99      13.7G     0.3868     0.2422     0.8948         76        640: 100% 43/43 [00:34<00:00,  1.24it/s]\n",
      "                 Class     Images  Instances          P          R      mAP50   mAP50-95: 100% 3/3 [00:01<00:00,  1.59it/s]\n",
      "                   all         71        367      0.929        0.8      0.879      0.669\n",
      "\n",
      "      Epoch    GPU_mem   box_loss   cls_loss   dfl_loss  Instances       Size\n",
      "      98/99      13.7G     0.3658      0.228     0.8852         61        640: 100% 43/43 [00:34<00:00,  1.23it/s]\n",
      "                 Class     Images  Instances          P          R      mAP50   mAP50-95: 100% 3/3 [00:01<00:00,  1.76it/s]\n",
      "                   all         71        367      0.938      0.811      0.884      0.677\n",
      "\n",
      "      Epoch    GPU_mem   box_loss   cls_loss   dfl_loss  Instances       Size\n",
      "      99/99      13.7G     0.3705     0.2344     0.8958         80        640: 100% 43/43 [00:34<00:00,  1.24it/s]\n",
      "                 Class     Images  Instances          P          R      mAP50   mAP50-95: 100% 3/3 [00:01<00:00,  1.77it/s]\n",
      "                   all         71        367      0.929      0.818      0.888       0.68\n",
      "\n",
      "100 epochs completed in 1.279 hours.\n",
      "Optimizer stripped from runs/train/exp/weights/last.pt, saved as runs/train/exp/weights/last_striped.pt, 51.5MB\n",
      "Optimizer stripped from runs/train/exp/weights/best.pt, saved as runs/train/exp/weights/best_striped.pt, 51.5MB\n",
      "\n",
      "Validating runs/train/exp/weights/best.pt...\n",
      "Fusing layers... \n",
      "gelan-c summary: 467 layers, 25412502 parameters, 0 gradients, 102.5 GFLOPs\n",
      "                 Class     Images  Instances          P          R      mAP50   mAP50-95: 100% 3/3 [00:03<00:00,  1.11s/it]\n",
      "                   all         71        367      0.915      0.824      0.895      0.689\n",
      "                  cars         71        224      0.899      0.872      0.914      0.786\n",
      "                 empty         71        143      0.931      0.776      0.876      0.592\n",
      "Results saved to \u001b[1mruns/train/exp\u001b[0m\n"
     ]
    }
   ],
   "source": [
    "%cd {HOME}/yolov9\n",
    "\n",
    "!python train.py \\\n",
    "--batch -1 --epochs 100 --img 640 --device 0 --min-items 0 --close-mosaic 15 \\\n",
    "--data {dataset.location}/data.yaml \\\n",
    "--weights {HOME}/weights/gelan-c.pt \\\n",
    "--cfg models/detect/gelan-c.yaml \\\n",
    "--hyp hyp.scratch-high.yaml"
   ]
  }
 ],
 "metadata": {
  "accelerator": "GPU",
  "colab": {
   "gpuType": "T4",
   "provenance": []
  },
  "kernelspec": {
   "display_name": "Python 3 (ipykernel)",
   "language": "python",
   "name": "python3"
  },
  "language_info": {
   "codemirror_mode": {
    "name": "ipython",
    "version": 3
   },
   "file_extension": ".py",
   "mimetype": "text/x-python",
   "name": "python",
   "nbconvert_exporter": "python",
   "pygments_lexer": "ipython3",
   "version": "3.10.9"
  }
 },
 "nbformat": 4,
 "nbformat_minor": 1
}
